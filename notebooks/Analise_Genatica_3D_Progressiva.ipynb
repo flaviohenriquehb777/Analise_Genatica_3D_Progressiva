{
 "cells": [
  {
   "cell_type": "code",
   "execution_count": 1,
   "id": "1a2e3651-b35e-4826-b57e-d7682639e31f",
   "metadata": {},
   "outputs": [],
   "source": [
    "# Importações necessárias\n",
    "import numpy as np\n",
    "import matplotlib.pyplot as plt\n",
    "from matplotlib.animation import FuncAnimation\n",
    "from mpl_toolkits.mplot3d import Axes3D\n",
    "from IPython.display import HTML\n",
    "import pandas as pd"
   ]
  },
  {
   "cell_type": "code",
   "execution_count": 2,
   "id": "ad01464a-b805-451b-9f5a-718788e5be42",
   "metadata": {},
   "outputs": [],
   "source": [
    "# Configurações de estilo profissional\n",
    "plt.style.use('seaborn-v0_8-whitegrid')\n",
    "plt.rcParams['font.family'] = 'DejaVu Sans'  # Fonte mais legível"
   ]
  },
  {
   "cell_type": "code",
   "execution_count": 3,
   "id": "40ed274d-13b7-46f2-a340-3d1fd890ce17",
   "metadata": {},
   "outputs": [],
   "source": [
    "# Simulação de Dados Genéticos (com mais variação)\n",
    "def generate_genetic_data():\n",
    "    np.random.seed(42)\n",
    "    positions = np.arange(1, 101)\n",
    "    mutations = np.random.choice(['SNP', 'DEL', 'INS', 'CNV'], 100, p=[0.6, 0.2, 0.15, 0.05])\n",
    "    impact = np.abs(np.random.normal(0.5, 0.2, 100))\n",
    "    \n",
    "    # Adicionar hotspots genéticos\n",
    "    impact[30:35] = np.random.uniform(0.7, 0.9, 5)\n",
    "    impact[70:75] = np.random.uniform(0.7, 0.9, 5)\n",
    "    \n",
    "    return pd.DataFrame({\n",
    "        'Position': positions,\n",
    "        'Mutation': mutations,\n",
    "        'Impact': impact,\n",
    "        'Gene': ['GENE'+str(i%5+1) for i in range(100)]\n",
    "    })\n",
    "\n",
    "df = generate_genetic_data()\n",
    "\n",
    "# Mapeamento dos tipos de mutação para números\n",
    "mutation_map = {'SNP': 0, 'DEL': 1, 'INS': 2, 'CNV': 3}\n",
    "df['MutationType'] = df['Mutation'].map(mutation_map)"
   ]
  },
  {
   "cell_type": "code",
   "execution_count": 4,
   "id": "630a6840-2c07-41ce-87f1-b14854a95268",
   "metadata": {},
   "outputs": [],
   "source": [
    "# Configuração da Figura 3D\n",
    "fig = plt.figure(figsize=(12, 8), dpi=100)\n",
    "ax = fig.add_subplot(111, projection='3d')\n",
    "\n",
    "# Paleta de cores acessível (Daltonian-friendly)\n",
    "palette = {\n",
    "    'SNP': '#3575D5',  # Azul\n",
    "    'DEL': '#E64C4C',  # Vermelho\n",
    "    'INS': '#4CAF50',  # Verde\n",
    "    'CNV': '#9C27B0'   # Roxo\n",
    "}\n",
    "\n",
    "plt.close()"
   ]
  },
  {
   "cell_type": "code",
   "execution_count": 5,
   "id": "f132cc31-cc14-4ef1-935d-0421fa79c1b9",
   "metadata": {},
   "outputs": [],
   "source": [
    "# Função de Inicialização\n",
    "def init():\n",
    "    ax.clear()\n",
    "    ax.set_xlim(0, 100)\n",
    "    ax.set_ylim(-0.5, 3.5)  # Ajuste para o mapeamento das mutações\n",
    "    ax.set_zlim(0, 1.05)\n",
    "    ax.set_xlabel('Posição no Genoma', fontsize=10, fontweight='bold')\n",
    "    ax.set_ylabel('Tipo de Mutações', fontsize=10, fontweight='bold')\n",
    "    ax.set_zlabel('Impacto Genético', fontsize=10, fontweight='bold')\n",
    "    ax.set_title('Análise Genômica 3D Progressiva', fontsize=14, fontweight='bold')\n",
    "\n",
    "    # Configurar a legenda fora da área do gráfico\n",
    "    handles = [plt.Line2D([0], [0], marker='o', color='w', markerfacecolor=color, markersize=10) \n",
    "               for color in palette.values()]\n",
    "    labels = list(palette.keys())\n",
    "    ax.legend(handles, labels, loc='center left', fontsize=10, title=\"Tipos de Mutação\", bbox_to_anchor=(1.05, 0.5))\n",
    "\n",
    "    return []"
   ]
  },
  {
   "cell_type": "code",
   "execution_count": 6,
   "id": "1cfd8ffb-e218-4f21-aea1-59a9f5c36ca1",
   "metadata": {},
   "outputs": [],
   "source": [
    "# Função de Atualização (mais lenta e explicativa)\n",
    "def update(frame):\n",
    "    current_frame = min(frame * 2, 100) if frame < 50 else 100\n",
    "    current_data = df.iloc[:current_frame]\n",
    "    \n",
    "    ax.clear()\n",
    "    \n",
    "    # Configurações fixas\n",
    "    ax.set_xlim(0, 100)\n",
    "    ax.set_ylim(-0.5, 3.5)  # Ajuste para o mapeamento das mutações\n",
    "    ax.set_zlim(0, 1.05)\n",
    "    \n",
    "    ax.set_xlabel('Posição no Genoma', fontsize=10, fontweight='bold')\n",
    "    ax.set_ylabel('Tipo de Mutações', fontsize=10, fontweight='bold')\n",
    "    ax.set_zlabel('Impacto Genético', fontsize=10, fontweight='bold')\n",
    "    ax.set_title(f'Análise Genômica 3D Progressiva (Frame {current_frame})', fontsize=14, fontweight='bold')\n",
    "    \n",
    "    # Plotar mutações como pontos no gráfico 3D\n",
    "    for mut_type, group in current_data.groupby('Mutation'):\n",
    "        mut_num = mutation_map[mut_type]  # Usar o número mapeado para o tipo de mutação\n",
    "        ax.scatter(group['Position'], [mut_num] * len(group), group['Impact'], \n",
    "                   color=palette[mut_type], label=mut_type, s=80, alpha=0.7, edgecolors='w', linewidth=0.5)\n",
    "    \n",
    "    # Linha de progresso e hotspot markers\n",
    "    if current_frame >= 30:\n",
    "        ax.text(30, 0.5, 0.7, \"Hotspot 1\", color=\"black\")\n",
    "    if current_frame >= 70:\n",
    "        ax.text(70, 0.5, 0.7, \"Hotspot 2\", color=\"black\")\n",
    "\n",
    "    # Animação suave nos eixos\n",
    "    ax.view_init(elev=20, azim=current_frame * 2)  # Alterar o ângulo de visão com base no frame\n",
    "    \n",
    "    # Re-adicionar a legenda a cada frame\n",
    "    handles = [plt.Line2D([0], [0], marker='o', color='w', markerfacecolor=color, markersize=10) \n",
    "               for color in palette.values()]\n",
    "    labels = list(palette.keys())\n",
    "    ax.legend(handles, labels, loc='center left', fontsize=10, title=\"Tipos de Mutação\", bbox_to_anchor=(1.05, 0.5))\n",
    "\n",
    "    return []"
   ]
  },
  {
   "cell_type": "code",
   "execution_count": 8,
   "id": "16435d1e-03c5-45eb-b844-85959bd6eebd",
   "metadata": {},
   "outputs": [
    {
     "name": "stdout",
     "output_type": "stream",
     "text": [
      "Processando frame 0/60\n",
      "Processando frame 10/60\n",
      "Processando frame 20/60\n",
      "Processando frame 30/60\n",
      "Processando frame 40/60\n",
      "Processando frame 50/60\n",
      "\n",
      "Animação finalizada! Salva como '../media/genome_analysis_3d_with_legend.gif'\n"
     ]
    }
   ],
   "source": [
    "# Criar Animação com velocidade acessível\n",
    "ani = FuncAnimation(fig, update, frames=60, init_func=init, interval=400, blit=False)\n",
    "\n",
    "# Salvar com qualidade otimizada\n",
    "ani.save('../media/genome_analysis_3d_with_legend.gif',\n",
    "          writer='pillow',\n",
    "          fps=5, # Reduzido para melhor acompanhamento\n",
    "          dpi=100,\n",
    "          progress_callback=lambda i, n: print(f'Processando frame {i}/{n}') if i%10==0 else None)\n",
    "\n",
    "plt.close()\n",
    "\n",
    "print(\"\\nAnimação finalizada! Salva como '../media/genome_analysis_3d_with_legend.gif'\")"
   ]
  }
 ],
 "metadata": {
  "kernelspec": {
   "display_name": "Python (base)",
   "language": "python",
   "name": "base"
  },
  "language_info": {
   "codemirror_mode": {
    "name": "ipython",
    "version": 3
   },
   "file_extension": ".py",
   "mimetype": "text/x-python",
   "name": "python",
   "nbconvert_exporter": "python",
   "pygments_lexer": "ipython3",
   "version": "3.12.3"
  }
 },
 "nbformat": 4,
 "nbformat_minor": 5
}
